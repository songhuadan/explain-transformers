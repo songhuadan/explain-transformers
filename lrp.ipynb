{
  "cells": [
    {
      "cell_type": "markdown",
      "metadata": {
        "id": "2Q4eyERsdL3x"
      },
      "source": [
        "<h1 align='center'>Tutorial: Implementing Layer-Wise Relevance Propagation</h1>\n",
        "<br>\n",
        "    <p><em>\n",
        "    first version: Jul 14, 2016<br>\n",
        "    last update: Sep 17, 2019\n",
        "    </em></p>\n",
        "    <p>This tutorial explains how to implement layer-wise relevance propagation (LRP) easily and efficiently, as described in the overview paper:    \n",
        "    <blockquote style='background-color:#EEEEEE; padding: 3px; border: 1px dashed #999999'>\n",
        "    G. Montavon, A. Binder, S. Lapuschkin, W. Samek, K.-R. Müller<br><a href=\\\"https://doi.org/10.1007/978-3-030-28954-6_10\\\">Layer-wise Relevance Propagation: An Overview</a><br><font color=\\\"#008800\\\">in Explainable AI: Interpreting, Explaining and Visualizing Deep Learning, Springer LNCS, vol. 11700,\n",
        "    2019</font>\n",
        "    </blockquote>\n",
        "    We consider two models: (1) a simple plain deep rectifier network trained on the MNIST handwritten digits data, (2) the VGG-16 network trained on ImageNet and applicable to general image classification.</p>\n",
        "    <p><em>Note:</em> If you are instead looking for ready to use software, have a look at the <a href=\\\"http://www.heatmapping.org/index.html#software\\\">software section</a> of this website. If you want to try relevance propagation without installing software, check our <a href=\\\"http://www.heatmapping.org/index.html#demos\\\">interactive demos</a>. For the original paper on LRP, see instead:</p>\n",
        "    <blockquote style='background-color:#EEEEEE; padding: 3px; border: 1px dashed #999999'>\n",
        "    S. Bach, A. Binder, G. Montavon, F. Klauschen, K.-R. Müller, W. Samek<br><a href=\\\"https://doi.org/10.1371/journal.pone.0130140\\\">On pixel-wise explanations for non-linear classifier decisions by layer-wise relevance propagation</a><br><font color=\\\"#008800\\\">PloS ONE 10 (7), e0130140,\n",
        "    2015</font>\n",
        "    </blockquote>"
      ]
    },
    {
      "cell_type": "markdown",
      "metadata": {
        "id": "b4F3cPi4dL30"
      },
      "source": [
        "<h2>1 &nbsp; Numpy Implementation for a Fully-Connected Network</h2>\n",
        "\n",
        "<p>We first load 12 examplary MNIST test digits.</p>"
      ]
    },
    {
      "cell_type": "code",
      "source": [
        "!git clone https://github.com/songhuadan/explain-transformers.git\n",
        "\n",
        "import os\n",
        "os.chdir(f'./explain-transformers')"
      ],
      "metadata": {
        "colab": {
          "base_uri": "https://localhost:8080/"
        },
        "id": "P8rbqvumdUU4",
        "outputId": "6deea84b-3846-4fed-faef-edce727befed"
      },
      "execution_count": null,
      "outputs": [
        {
          "output_type": "stream",
          "name": "stdout",
          "text": [
            "Mounted at /content/drive\n"
          ]
        }
      ]
    },
    {
      "cell_type": "code",
      "execution_count": null,
      "metadata": {
        "ExecuteTime": {
          "start_time": "2022-10-27T21:42:00.817Z"
        },
        "colab": {
          "base_uri": "https://localhost:8080/",
          "height": 85
        },
        "id": "SZZ76iqUdL31",
        "outputId": "6aa2400b-21b6-4eec-84bd-99dfc07cb435"
      },
      "outputs": [
        {
          "output_type": "display_data",
          "data": {
            "text/plain": [
              "<Figure size 648x54 with 1 Axes>"
            ],
            "image/png": "[encoded data removed]"
          },
          "metadata": {
            "needs_background": "light"
          }
        }
      ],
      "source": [
        "import utils\n",
        "X,T = utils.loaddata()\n",
        "%matplotlib inline\n",
        "utils.digit(X.reshape(1,12,28,28).transpose(0,2,1,3).reshape(28,12*28),9,0.75)"
      ]
    },
    {
      "cell_type": "code",
      "source": [
        "a1 = X.reshape(1,12,28,28).transpose(0,2,1,3).reshape(28,12*28)"
      ],
      "metadata": {
        "id": "Q9oGkVOigHK5"
      },
      "execution_count": null,
      "outputs": []
    },
    {
      "cell_type": "code",
      "source": [
        "X.shape"
      ],
      "metadata": {
        "colab": {
          "base_uri": "https://localhost:8080/"
        },
        "id": "feVkNL5yl-Ua",
        "outputId": "e336a87a-001e-45d3-b6b8-3f4b609db113"
      },
      "execution_count": null,
      "outputs": [
        {
          "output_type": "execute_result",
          "data": {
            "text/plain": [
              "(12, 784)"
            ]
          },
          "metadata": {},
          "execution_count": 5
        }
      ]
    },
    {
      "cell_type": "code",
      "source": [
        "from matplotlib import pyplot as plt\n",
        "plt.figure(figsize=(9,0.75))\n",
        "plt.subplots_adjust(left=0, right=1, bottom=0, top=1)\n",
        "plt.axis('off')\n",
        "plt.imshow(a1, interpolation='nearest', cmap='gray')\n",
        "plt.show()"
      ],
      "metadata": {
        "colab": {
          "base_uri": "https://localhost:8080/",
          "height": 85
        },
        "id": "ER4_bUUkjlRN",
        "outputId": "249c8f43-3372-4842-ef78-a36cf7fb5285"
      },
      "execution_count": null,
      "outputs": [
        {
          "output_type": "display_data",
          "data": {
            "text/plain": [
              "<Figure size 648x54 with 1 Axes>"
            ],
            "image/png": "[encoded data removed]"
          },
          "metadata": {
            "needs_background": "light"
          }
        }
      ]
    },
    {
      "cell_type": "markdown",
      "metadata": {
        "id": "rP6VXkA1dL32"
      },
      "source": [
        "Each digit is stored as a 784-dimensional vector of pixel values, where \"-1.0\" corresponds to black and \"+1.0\" corresponds to white. \n",
        "\n",
        "<h3>1.1 &nbsp; Predicting the class of MNIST digits</h3>\n",
        "\n",
        "<p>These digits are fed to a fully connected neural network with layer sizes 784-300-100-10 with ReLU activations for each hidden layer. The architecture is depicted in the figure below.</p>\n",
        "<center>\n",
        "<img src=\"mlp.png\" width=350>\n",
        "</center>\n",
        "<p>The network we consider achieves an error of 1.6% which is a typical performance for a neural network without particular structure or regularization. The function <code>utils.loadparams()</code> retrieves its parameters for us.</p>"
      ]
    },
    {
      "cell_type": "code",
      "execution_count": null,
      "metadata": {
        "id": "mYlu1E8tdL32"
      },
      "outputs": [],
      "source": [
        "W,B = utils.loadparams()\n",
        "L = len(W)"
      ]
    },
    {
      "cell_type": "markdown",
      "metadata": {
        "id": "TQFU8s0IdL33"
      },
      "source": [
        "<p>From these parameters, the forward pass can be computed as a sequence of matrix multiplications and nonlinearities.</p>"
      ]
    },
    {
      "cell_type": "code",
      "execution_count": null,
      "metadata": {
        "ExecuteTime": {
          "end_time": "2022-10-27T21:42:34.954302Z",
          "start_time": "2022-10-27T21:42:34.815995Z"
        },
        "id": "_re0YDTIdL33"
      },
      "outputs": [],
      "source": [
        "import numpy\n",
        "A = [X]+[None]*L\n",
        "for l in range(L):\n",
        "    A[l+1] = numpy.maximum(0,A[l].dot(W[l])+B[l])"
      ]
    },
    {
      "cell_type": "markdown",
      "metadata": {
        "id": "7pGQxEvFdL34"
      },
      "source": [
        "Note that this code has added an additional top-layer ReLU activation compared to the original neural network. This however doesn't affect computations when looking at positive output scores. The top layer activations are scores measuring the evidence the network has found for each class. In the following, we show the first three digits and the scores produced for each class at the output:"
      ]
    },
    {
      "cell_type": "code",
      "execution_count": null,
      "metadata": {
        "colab": {
          "base_uri": "https://localhost:8080/",
          "height": 273
        },
        "id": "thONSEdBdL35",
        "outputId": "a4fea979-d51d-48bb-e710-0b64fe46a133"
      },
      "outputs": [
        {
          "output_type": "display_data",
          "data": {
            "text/plain": [
              "<Figure size 54x54 with 1 Axes>"
            ],
            "image/png": "[encoded data removed]"
          },
          "metadata": {
            "needs_background": "light"
          }
        },
        {
          "output_type": "stream",
          "name": "stdout",
          "text": [
            "[0] 0.0  [1] 3.6  [2] 49.1  [3] 8.9  [4] 0.0  [5] 0.0  [6] 0.0  [7] 1.4  [8] 1.6  [9] 0.0\n"
          ]
        },
        {
          "output_type": "display_data",
          "data": {
            "text/plain": [
              "<Figure size 54x54 with 1 Axes>"
            ],
            "image/png": "[encoded data removed]"
          },
          "metadata": {
            "needs_background": "light"
          }
        },
        {
          "output_type": "stream",
          "name": "stdout",
          "text": [
            "[0] 0.0  [1] 27.0  [2] 0.0  [3] 0.0  [4] 5.3  [5] 0.0  [6] 0.0  [7] 13.0  [8] 8.1  [9] 2.3\n"
          ]
        },
        {
          "output_type": "display_data",
          "data": {
            "text/plain": [
              "<Figure size 54x54 with 1 Axes>"
            ],
            "image/png": "[encoded data removed]"
          },
          "metadata": {
            "needs_background": "light"
          }
        },
        {
          "output_type": "stream",
          "name": "stdout",
          "text": [
            "[0] 49.1  [1] 0.0  [2] 10.6  [3] 0.0  [4] 0.0  [5] 0.2  [6] 0.0  [7] 3.0  [8] 0.0  [9] 9.2\n"
          ]
        }
      ],
      "source": [
        "for i in range(3):\n",
        "    utils.digit(X[i].reshape(28,28),0.75,0.75)\n",
        "    p = A[L][i]\n",
        "    print(\"  \".join(['[%1d] %.1f'%(d,p[d]) for d in range(10)]))"
      ]
    },
    {
      "cell_type": "markdown",
      "metadata": {
        "id": "DEntmTwldL35"
      },
      "source": [
        "<p>As expected, the highest score systematically corresponds to the correct digit.</p>\n",
        "\n",
        "<h3>1.2 &nbsp; Explaining the predictions with LRP</h3>\n",
        "\n",
        "<p>We now implement the layer-wise relevance propagation (LRP) procedure from the top to the bottom of the network. As a first step, we create a list to store relevance scores at each layer. The top layer relevance scores are set to the top-layer activations, which we multiply by a label indicator in order to retain only the evidence for the actual class.</p>"
      ]
    },
    {
      "cell_type": "code",
      "execution_count": null,
      "metadata": {
        "ExecuteTime": {
          "end_time": "2022-10-27T21:42:31.954044Z",
          "start_time": "2022-10-27T21:42:31.744142Z"
        },
        "id": "7Y5f7C0zdL36"
      },
      "outputs": [],
      "source": [
        "R = [None]*L + [A[L]*(T[:,None]==numpy.arange(10))]"
      ]
    },
    {
      "cell_type": "code",
      "source": [
        "R"
      ],
      "metadata": {
        "colab": {
          "base_uri": "https://localhost:8080/"
        },
        "id": "fmOlpxNsxeUz",
        "outputId": "e0431991-04c7-4c86-a8bd-2e7b48cd7d93"
      },
      "execution_count": null,
      "outputs": [
        {
          "output_type": "execute_result",
          "data": {
            "text/plain": [
              "[None,\n",
              " None,\n",
              " None,\n",
              " array([[ 0.        ,  0.        , 49.09544781,  0.        ,  0.        ,\n",
              "          0.        ,  0.        ,  0.        ,  0.        ,  0.        ],\n",
              "        [ 0.        , 26.99117571,  0.        ,  0.        ,  0.        ,\n",
              "          0.        ,  0.        ,  0.        ,  0.        ,  0.        ],\n",
              "        [49.08468754,  0.        ,  0.        ,  0.        ,  0.        ,\n",
              "          0.        ,  0.        ,  0.        ,  0.        ,  0.        ],\n",
              "        [ 0.        ,  0.        ,  0.        ,  0.        ,  0.        ,\n",
              "          0.        , 41.87610684,  0.        ,  0.        ,  0.        ],\n",
              "        [ 0.        ,  0.        ,  0.        ,  0.        ,  0.        ,\n",
              "          0.        ,  0.        ,  0.        , 30.96404237,  0.        ],\n",
              "        [ 0.        ,  0.        ,  0.        ,  0.        ,  0.        ,\n",
              "          0.        ,  0.        ,  0.        , 30.36133447,  0.        ],\n",
              "        [66.65911419,  0.        ,  0.        ,  0.        ,  0.        ,\n",
              "          0.        ,  0.        ,  0.        ,  0.        ,  0.        ],\n",
              "        [ 0.        ,  0.        ,  0.        , 75.37656359,  0.        ,\n",
              "          0.        ,  0.        ,  0.        ,  0.        ,  0.        ],\n",
              "        [ 0.        ,  0.        ,  0.        ,  0.        ,  0.        ,\n",
              "          0.        ,  0.        ,  0.        , 38.12903749,  0.        ],\n",
              "        [ 0.        ,  0.        ,  0.        ,  0.        ,  0.        ,\n",
              "          0.        ,  0.        ,  0.        ,  0.        , 46.56154925],\n",
              "        [ 0.        ,  0.        ,  0.        ,  0.        , 65.84315712,\n",
              "          0.        ,  0.        ,  0.        ,  0.        ,  0.        ],\n",
              "        [ 0.        ,  0.        ,  0.        ,  0.        ,  0.        ,\n",
              "          0.        , 26.10800064,  0.        ,  0.        ,  0.        ]])]"
            ]
          },
          "metadata": {},
          "execution_count": 28
        }
      ]
    },
    {
      "cell_type": "markdown",
      "metadata": {
        "id": "n0GVpXyFdL36"
      },
      "source": [
        "<p> The LRP-0, LRP-ϵ, and LRP-γ rules described in the <a href=\"https://link.springer.com/chapter/10.1007/978-3-030-28954-6_10\">LRP overview paper</a> (Section 10.2.1) for propagating relevance on the lower layers are special cases of the more general propagation rule</p>\n",
        "\n",
        "<img src=\"http://latex.codecogs.com/svg.latex?R_j = \\sum_k \\frac{a_j \\rho(w_{jk})}{\\epsilon + \\sum_{0,j} a_j \\rho(w_{jk})} R_k\">\n",
        "\n",
        "<p>(cf. Section 10.2.2), where ρ is a function that transform the weights, and ϵ is a small positive increment. We define below two helper functions that perform the weight transformation and the incrementation. In practice, we would like to apply different rules at different layers (cf. Section 10.3). Therefore, we also give the layer index \"<code>l</code>\" as argument to these functions.</p>"
      ]
    },
    {
      "cell_type": "code",
      "execution_count": null,
      "metadata": {
        "id": "l7WqrVsvdL36"
      },
      "outputs": [],
      "source": [
        "def rho(w,l):  return w + [None,0.1,0.0,0.0][l] * numpy.maximum(0,w)\n",
        "def incr(z,l): return z + [None,0.0,0.1,0.0][l] * (z**2).mean()**.5+1e-9"
      ]
    },
    {
      "cell_type": "markdown",
      "metadata": {
        "id": "tSiu8oNddL37"
      },
      "source": [
        "<p>In particular, these functions and the layer they receive as a parameter let us reduce the general rule to LRP-0 for the top-layer, to LRP-ϵ with ϵ = 0.1std for the layer just below, and to LRP-γ with γ=0.1 for the layer before. We now come to the practical implementation of this general rule. It can be decomposed as a sequence of four computations:</p>\n",
        "\n",
        "<p>\n",
        "<img src=\"http://latex.codecogs.com/svg.latex?\n",
        "\\begin{align*}\n",
        "\\forall_k:~z_k = {\\textstyle \\epsilon + \\sum_{0,j}} a_j \\rho(w_{jk}) & (\\text{step }1)\\\\\n",
        "\\forall_k:~s_k = R_k / z_k \\qquad & (\\text{step }2)\\\\\n",
        "\\forall_j:~c_j = {\\textstyle \\sum_k} \\rho(w_{jk}) s_k \\qquad & (\\text{step }3)\\\\\n",
        "\\forall_j:~R_j = a_j \\cdot c_j \\qquad & (\\text{step }4)\n",
        "\\end{align*}\n",
        "\">\n",
        "</p>\n",
        "\n",
        "<p>The layer-wise relevance propagation procedure then consists of iterating over the layers in reverse order, starting from the top layer towards the first layers, and at each layer, applying this sequence of computations.</p>"
      ]
    },
    {
      "cell_type": "code",
      "execution_count": null,
      "metadata": {
        "id": "gX_jvuNFdL37"
      },
      "outputs": [],
      "source": [
        "for l in range(1,L)[::-1]:\n",
        "\n",
        "    w = rho(W[l],l)\n",
        "    b = rho(B[l],l)\n",
        "    \n",
        "    z = incr(A[l].dot(w)+b,l)    # step 1\n",
        "    s = R[l+1] / z               # step 2\n",
        "    c = s.dot(w.T)               # step 3\n",
        "    R[l] = A[l]*c                # step 4"
      ]
    },
    {
      "cell_type": "markdown",
      "metadata": {
        "id": "3zfTAvkKdL37"
      },
      "source": [
        "<p>Note that the loop above stops one layer before reaching the pixels. To propagate relevance scores until the pixels, we need to apply an alternate propagation rule that properly handles pixel values received as input (cf. Section 10.3.2). In particular, we apply for this layer the zB-rule given by:</p>\n",
        "\n",
        "<img src=\"http://latex.codecogs.com/svg.latex?R_i = \\sum_j \\frac{a_i w_{ij} - l_i w_{ij}^+ - h_i w_{ij}^-}{\\sum_{i} a_i w_{ij} - l_i w_{ij}^+ - h_i w_{ij}^-} R_j\">\n",
        "\n",
        "<p>In this rule, <i>l<sub>i</sub></i> and <i>h<sub>i</sub></i> are the lower and upper bounds of pixel values, i.e. \"-1\" and \"+1\", and (·)<sup>+</sup> and (·)<sup>–</sup> are shortcut notations for max(0,·) and min(0,·). The zB-rule can again be implemented with a four-step procedure similar to the one used in the layers above. Here, we need to create two copies of the weights, and also create arrays of pixel values set to <i>l<sub>i</sub></i> and <i>h<sub>i</sub></i> respectively:</p>"
      ]
    },
    {
      "cell_type": "code",
      "execution_count": null,
      "metadata": {
        "id": "TtvLZo3bdL37"
      },
      "outputs": [],
      "source": [
        "w  = W[0]\n",
        "wp = numpy.maximum(0,w)\n",
        "wm = numpy.minimum(0,w)\n",
        "lb = A[0]*0-1\n",
        "hb = A[0]*0+1\n",
        "\n",
        "z = A[0].dot(w)-lb.dot(wp)-hb.dot(wm)+1e-9        # step 1\n",
        "s = R[1]/z                                        # step 2\n",
        "c,cp,cm  = s.dot(w.T),s.dot(wp.T),s.dot(wm.T)     # step 3\n",
        "R[0] = A[0]*c-lb*cp-hb*cm                         # step 4"
      ]
    },
    {
      "cell_type": "markdown",
      "metadata": {
        "id": "ihW9ZPQAdL38"
      },
      "source": [
        "<p>We have now reached the bottom layer. The obtained pixel-wise relevance scores can be rendered as a heatmap.</p>"
      ]
    },
    {
      "cell_type": "code",
      "execution_count": null,
      "metadata": {
        "colab": {
          "base_uri": "https://localhost:8080/",
          "height": 153
        },
        "id": "m2abNfT5dL38",
        "outputId": "576b271b-b4c9-47be-8adf-d0cf9b7c64f9"
      },
      "outputs": [
        {
          "output_type": "display_data",
          "data": {
            "text/plain": [
              "<Figure size 648x54 with 1 Axes>"
            ],
            "image/png": "[encoded data removed]"
          },
          "metadata": {
            "needs_background": "light"
          }
        },
        {
          "output_type": "display_data",
          "data": {
            "text/plain": [
              "<Figure size 648x54 with 1 Axes>"
            ],
            "image/png": "[encoded data removed]"
          },
          "metadata": {
            "needs_background": "light"
          }
        }
      ],
      "source": [
        "utils.digit(X.reshape(1,12,28,28).transpose(0,2,1,3).reshape(28,12*28),9,0.75)\n",
        "utils.heatmap(R[0].reshape(1,12,28,28).transpose(0,2,1,3).reshape(28,12*28),9,0.75)"
      ]
    },
    {
      "cell_type": "markdown",
      "metadata": {
        "id": "v8sPEwMadL38"
      },
      "source": [
        "Relevant pixels are highlighted in red. Pixels that contribute negatively to the prediction, if any, are shown in blue. On most digits, we find that the digit itself is highlighted, as well as some parts of the background. For example, we observe two red horizontal bars next to the digit \"3\", highlighting the fact that if those pixels would be different, the digit 3 would likely turn into a \"8\". Same for the vertical bar above the digit \"4\" that supports the class \"4\" instead of the class \"9\"."
      ]
    },
    {
      "cell_type": "markdown",
      "metadata": {
        "id": "wO_tMDTcdL38"
      },
      "source": [
        "<h2>2 &nbsp; PyTorch Implementation for the VGG-16 Network</h2>\n",
        "\n",
        "<p>In the example above, LRP rules could be easily expressed in terms of matrix-vector operations. In practice, state-of-the-art neural networks such as VGG-16 make use of more complex layers such as convolutions and pooling. In this case, LRP rules are more conveniently implemented by casting the operations of the four-step procedure above as <em>forward</em> and <em>gradient</em> evaluations on these layers. These operations are readily available in neural network frameworks such as PyTorch and TensorFlow, and can therefore be reused for the purpose of implementing LRP. Here, we take the VGG-16 pretrained network for image classification. For this network, we consider the task of explaining the evidence for the class \"castle\" it has found in the following image:</p>\n",
        "<center>\n",
        "<img src=\"castle.jpg\" width=224 style='margin: 0.5em'>\n",
        "</center>\n",
        "<p>The image is first loaded in the notebook.</p>"
      ]
    },
    {
      "cell_type": "code",
      "source": [
        "import numpy, utils"
      ],
      "metadata": {
        "id": "9ce1IECGfLGp"
      },
      "execution_count": null,
      "outputs": []
    },
    {
      "cell_type": "code",
      "execution_count": null,
      "metadata": {
        "id": "ms6jRp3SdL38"
      },
      "outputs": [],
      "source": [
        "import cv2\n",
        "img = numpy.array(cv2.imread('elephant and zebra.jpg'))[...,::-1]/255.0"
      ]
    },
    {
      "cell_type": "markdown",
      "metadata": {
        "id": "Z4Cy7_-SdL39"
      },
      "source": [
        "<p>It is then converted to a torch tensor of appropriate dimensions and normalized to be given as input to the VGG-16 network.</p>"
      ]
    },
    {
      "cell_type": "code",
      "execution_count": null,
      "metadata": {
        "id": "c29BJz45dL39"
      },
      "outputs": [],
      "source": [
        "import torch\n",
        "\n",
        "mean = torch.Tensor([0.485, 0.456, 0.406]).reshape(1,-1,1,1)\n",
        "std  = torch.Tensor([0.229, 0.224, 0.225]).reshape(1,-1,1,1)\n",
        "\n",
        "X = (torch.FloatTensor(img[numpy.newaxis].transpose([0,3,1,2])*1) - mean) / std"
      ]
    },
    {
      "cell_type": "markdown",
      "metadata": {
        "id": "uiBVcOsbdL39"
      },
      "source": [
        "<p>The VGG-16 network is then loaded and its top-level dense layers are converted into equivalent 1x1 convolutions.</p>"
      ]
    },
    {
      "cell_type": "code",
      "execution_count": null,
      "metadata": {
        "colab": {
          "base_uri": "https://localhost:8080/"
        },
        "id": "dHrDl8pRdL39",
        "outputId": "e1200f79-6312-45ff-9263-19b3a0f97dbe"
      },
      "outputs": [
        {
          "output_type": "stream",
          "name": "stderr",
          "text": [
            "/usr/local/lib/python3.7/dist-packages/torchvision/models/_utils.py:209: UserWarning: The parameter 'pretrained' is deprecated since 0.13 and will be removed in 0.15, please use 'weights' instead.\n",
            "  f\"The parameter '{pretrained_param}' is deprecated since 0.13 and will be removed in 0.15, \"\n",
            "/usr/local/lib/python3.7/dist-packages/torchvision/models/_utils.py:223: UserWarning: Arguments other than a weight enum or `None` for 'weights' are deprecated since 0.13 and will be removed in 0.15. The current behavior is equivalent to passing `weights=VGG16_Weights.IMAGENET1K_V1`. You can also use `weights=VGG16_Weights.DEFAULT` to get the most up-to-date weights.\n",
            "  warnings.warn(msg)\n"
          ]
        }
      ],
      "source": [
        "import torchvision\n",
        "\n",
        "model_1 = torchvision.models.vgg16(pretrained=True); model.eval()\n",
        "# model = torchvision.models.vit_b_16(weights='IMAGENET1K_V1'); model.eval()\n",
        "layers_1 = list(model_1._modules['features']) + utils.toconv(list(model_1._modules['classifier']))\n",
        "# layers = list(model._modules['encoder']) + utils.toconv(list(model._modules['classifier']))\n",
        "L = len(layers)"
      ]
    },
    {
      "cell_type": "code",
      "source": [
        "model_1"
      ],
      "metadata": {
        "colab": {
          "base_uri": "https://localhost:8080/"
        },
        "id": "DFeXD0dPCNY-",
        "outputId": "50e245b6-9d73-4484-9aea-f9b0a5a3ac0a"
      },
      "execution_count": null,
      "outputs": [
        {
          "output_type": "execute_result",
          "data": {
            "text/plain": [
              "VGG(\n",
              "  (features): Sequential(\n",
              "    (0): Conv2d(3, 64, kernel_size=(3, 3), stride=(1, 1), padding=(1, 1))\n",
              "    (1): ReLU(inplace=True)\n",
              "    (2): Conv2d(64, 64, kernel_size=(3, 3), stride=(1, 1), padding=(1, 1))\n",
              "    (3): ReLU(inplace=True)\n",
              "    (4): MaxPool2d(kernel_size=2, stride=2, padding=0, dilation=1, ceil_mode=False)\n",
              "    (5): Conv2d(64, 128, kernel_size=(3, 3), stride=(1, 1), padding=(1, 1))\n",
              "    (6): ReLU(inplace=True)\n",
              "    (7): Conv2d(128, 128, kernel_size=(3, 3), stride=(1, 1), padding=(1, 1))\n",
              "    (8): ReLU(inplace=True)\n",
              "    (9): MaxPool2d(kernel_size=2, stride=2, padding=0, dilation=1, ceil_mode=False)\n",
              "    (10): Conv2d(128, 256, kernel_size=(3, 3), stride=(1, 1), padding=(1, 1))\n",
              "    (11): ReLU(inplace=True)\n",
              "    (12): Conv2d(256, 256, kernel_size=(3, 3), stride=(1, 1), padding=(1, 1))\n",
              "    (13): ReLU(inplace=True)\n",
              "    (14): Conv2d(256, 256, kernel_size=(3, 3), stride=(1, 1), padding=(1, 1))\n",
              "    (15): ReLU(inplace=True)\n",
              "    (16): MaxPool2d(kernel_size=2, stride=2, padding=0, dilation=1, ceil_mode=False)\n",
              "    (17): Conv2d(256, 512, kernel_size=(3, 3), stride=(1, 1), padding=(1, 1))\n",
              "    (18): ReLU(inplace=True)\n",
              "    (19): Conv2d(512, 512, kernel_size=(3, 3), stride=(1, 1), padding=(1, 1))\n",
              "    (20): ReLU(inplace=True)\n",
              "    (21): Conv2d(512, 512, kernel_size=(3, 3), stride=(1, 1), padding=(1, 1))\n",
              "    (22): ReLU(inplace=True)\n",
              "    (23): MaxPool2d(kernel_size=2, stride=2, padding=0, dilation=1, ceil_mode=False)\n",
              "    (24): Conv2d(512, 512, kernel_size=(3, 3), stride=(1, 1), padding=(1, 1))\n",
              "    (25): ReLU(inplace=True)\n",
              "    (26): Conv2d(512, 512, kernel_size=(3, 3), stride=(1, 1), padding=(1, 1))\n",
              "    (27): ReLU(inplace=True)\n",
              "    (28): Conv2d(512, 512, kernel_size=(3, 3), stride=(1, 1), padding=(1, 1))\n",
              "    (29): ReLU(inplace=True)\n",
              "    (30): MaxPool2d(kernel_size=2, stride=2, padding=0, dilation=1, ceil_mode=False)\n",
              "  )\n",
              "  (avgpool): AdaptiveAvgPool2d(output_size=(7, 7))\n",
              "  (classifier): Sequential(\n",
              "    (0): Linear(in_features=25088, out_features=4096, bias=True)\n",
              "    (1): ReLU(inplace=True)\n",
              "    (2): Dropout(p=0.5, inplace=False)\n",
              "    (3): Linear(in_features=4096, out_features=4096, bias=True)\n",
              "    (4): ReLU(inplace=True)\n",
              "    (5): Dropout(p=0.5, inplace=False)\n",
              "    (6): Linear(in_features=4096, out_features=1000, bias=True)\n",
              "  )\n",
              ")"
            ]
          },
          "metadata": {},
          "execution_count": 90
        }
      ]
    },
    {
      "cell_type": "code",
      "source": [
        "list(model._modules['encoder']._modules['layers'])"
      ],
      "metadata": {
        "colab": {
          "base_uri": "https://localhost:8080/"
        },
        "id": "gMVbb7xMBwt0",
        "outputId": "9e69dd72-95f5-4470-eccd-b0c93909d3ce"
      },
      "execution_count": null,
      "outputs": [
        {
          "output_type": "execute_result",
          "data": {
            "text/plain": [
              "[EncoderBlock(\n",
              "   (ln_1): LayerNorm((768,), eps=1e-06, elementwise_affine=True)\n",
              "   (self_attention): MultiheadAttention(\n",
              "     (out_proj): NonDynamicallyQuantizableLinear(in_features=768, out_features=768, bias=True)\n",
              "   )\n",
              "   (dropout): Dropout(p=0.0, inplace=False)\n",
              "   (ln_2): LayerNorm((768,), eps=1e-06, elementwise_affine=True)\n",
              "   (mlp): MLPBlock(\n",
              "     (0): Linear(in_features=768, out_features=3072, bias=True)\n",
              "     (1): GELU(approximate=none)\n",
              "     (2): Dropout(p=0.0, inplace=False)\n",
              "     (3): Linear(in_features=3072, out_features=768, bias=True)\n",
              "     (4): Dropout(p=0.0, inplace=False)\n",
              "   )\n",
              " ), EncoderBlock(\n",
              "   (ln_1): LayerNorm((768,), eps=1e-06, elementwise_affine=True)\n",
              "   (self_attention): MultiheadAttention(\n",
              "     (out_proj): NonDynamicallyQuantizableLinear(in_features=768, out_features=768, bias=True)\n",
              "   )\n",
              "   (dropout): Dropout(p=0.0, inplace=False)\n",
              "   (ln_2): LayerNorm((768,), eps=1e-06, elementwise_affine=True)\n",
              "   (mlp): MLPBlock(\n",
              "     (0): Linear(in_features=768, out_features=3072, bias=True)\n",
              "     (1): GELU(approximate=none)\n",
              "     (2): Dropout(p=0.0, inplace=False)\n",
              "     (3): Linear(in_features=3072, out_features=768, bias=True)\n",
              "     (4): Dropout(p=0.0, inplace=False)\n",
              "   )\n",
              " ), EncoderBlock(\n",
              "   (ln_1): LayerNorm((768,), eps=1e-06, elementwise_affine=True)\n",
              "   (self_attention): MultiheadAttention(\n",
              "     (out_proj): NonDynamicallyQuantizableLinear(in_features=768, out_features=768, bias=True)\n",
              "   )\n",
              "   (dropout): Dropout(p=0.0, inplace=False)\n",
              "   (ln_2): LayerNorm((768,), eps=1e-06, elementwise_affine=True)\n",
              "   (mlp): MLPBlock(\n",
              "     (0): Linear(in_features=768, out_features=3072, bias=True)\n",
              "     (1): GELU(approximate=none)\n",
              "     (2): Dropout(p=0.0, inplace=False)\n",
              "     (3): Linear(in_features=3072, out_features=768, bias=True)\n",
              "     (4): Dropout(p=0.0, inplace=False)\n",
              "   )\n",
              " ), EncoderBlock(\n",
              "   (ln_1): LayerNorm((768,), eps=1e-06, elementwise_affine=True)\n",
              "   (self_attention): MultiheadAttention(\n",
              "     (out_proj): NonDynamicallyQuantizableLinear(in_features=768, out_features=768, bias=True)\n",
              "   )\n",
              "   (dropout): Dropout(p=0.0, inplace=False)\n",
              "   (ln_2): LayerNorm((768,), eps=1e-06, elementwise_affine=True)\n",
              "   (mlp): MLPBlock(\n",
              "     (0): Linear(in_features=768, out_features=3072, bias=True)\n",
              "     (1): GELU(approximate=none)\n",
              "     (2): Dropout(p=0.0, inplace=False)\n",
              "     (3): Linear(in_features=3072, out_features=768, bias=True)\n",
              "     (4): Dropout(p=0.0, inplace=False)\n",
              "   )\n",
              " ), EncoderBlock(\n",
              "   (ln_1): LayerNorm((768,), eps=1e-06, elementwise_affine=True)\n",
              "   (self_attention): MultiheadAttention(\n",
              "     (out_proj): NonDynamicallyQuantizableLinear(in_features=768, out_features=768, bias=True)\n",
              "   )\n",
              "   (dropout): Dropout(p=0.0, inplace=False)\n",
              "   (ln_2): LayerNorm((768,), eps=1e-06, elementwise_affine=True)\n",
              "   (mlp): MLPBlock(\n",
              "     (0): Linear(in_features=768, out_features=3072, bias=True)\n",
              "     (1): GELU(approximate=none)\n",
              "     (2): Dropout(p=0.0, inplace=False)\n",
              "     (3): Linear(in_features=3072, out_features=768, bias=True)\n",
              "     (4): Dropout(p=0.0, inplace=False)\n",
              "   )\n",
              " ), EncoderBlock(\n",
              "   (ln_1): LayerNorm((768,), eps=1e-06, elementwise_affine=True)\n",
              "   (self_attention): MultiheadAttention(\n",
              "     (out_proj): NonDynamicallyQuantizableLinear(in_features=768, out_features=768, bias=True)\n",
              "   )\n",
              "   (dropout): Dropout(p=0.0, inplace=False)\n",
              "   (ln_2): LayerNorm((768,), eps=1e-06, elementwise_affine=True)\n",
              "   (mlp): MLPBlock(\n",
              "     (0): Linear(in_features=768, out_features=3072, bias=True)\n",
              "     (1): GELU(approximate=none)\n",
              "     (2): Dropout(p=0.0, inplace=False)\n",
              "     (3): Linear(in_features=3072, out_features=768, bias=True)\n",
              "     (4): Dropout(p=0.0, inplace=False)\n",
              "   )\n",
              " ), EncoderBlock(\n",
              "   (ln_1): LayerNorm((768,), eps=1e-06, elementwise_affine=True)\n",
              "   (self_attention): MultiheadAttention(\n",
              "     (out_proj): NonDynamicallyQuantizableLinear(in_features=768, out_features=768, bias=True)\n",
              "   )\n",
              "   (dropout): Dropout(p=0.0, inplace=False)\n",
              "   (ln_2): LayerNorm((768,), eps=1e-06, elementwise_affine=True)\n",
              "   (mlp): MLPBlock(\n",
              "     (0): Linear(in_features=768, out_features=3072, bias=True)\n",
              "     (1): GELU(approximate=none)\n",
              "     (2): Dropout(p=0.0, inplace=False)\n",
              "     (3): Linear(in_features=3072, out_features=768, bias=True)\n",
              "     (4): Dropout(p=0.0, inplace=False)\n",
              "   )\n",
              " ), EncoderBlock(\n",
              "   (ln_1): LayerNorm((768,), eps=1e-06, elementwise_affine=True)\n",
              "   (self_attention): MultiheadAttention(\n",
              "     (out_proj): NonDynamicallyQuantizableLinear(in_features=768, out_features=768, bias=True)\n",
              "   )\n",
              "   (dropout): Dropout(p=0.0, inplace=False)\n",
              "   (ln_2): LayerNorm((768,), eps=1e-06, elementwise_affine=True)\n",
              "   (mlp): MLPBlock(\n",
              "     (0): Linear(in_features=768, out_features=3072, bias=True)\n",
              "     (1): GELU(approximate=none)\n",
              "     (2): Dropout(p=0.0, inplace=False)\n",
              "     (3): Linear(in_features=3072, out_features=768, bias=True)\n",
              "     (4): Dropout(p=0.0, inplace=False)\n",
              "   )\n",
              " ), EncoderBlock(\n",
              "   (ln_1): LayerNorm((768,), eps=1e-06, elementwise_affine=True)\n",
              "   (self_attention): MultiheadAttention(\n",
              "     (out_proj): NonDynamicallyQuantizableLinear(in_features=768, out_features=768, bias=True)\n",
              "   )\n",
              "   (dropout): Dropout(p=0.0, inplace=False)\n",
              "   (ln_2): LayerNorm((768,), eps=1e-06, elementwise_affine=True)\n",
              "   (mlp): MLPBlock(\n",
              "     (0): Linear(in_features=768, out_features=3072, bias=True)\n",
              "     (1): GELU(approximate=none)\n",
              "     (2): Dropout(p=0.0, inplace=False)\n",
              "     (3): Linear(in_features=3072, out_features=768, bias=True)\n",
              "     (4): Dropout(p=0.0, inplace=False)\n",
              "   )\n",
              " ), EncoderBlock(\n",
              "   (ln_1): LayerNorm((768,), eps=1e-06, elementwise_affine=True)\n",
              "   (self_attention): MultiheadAttention(\n",
              "     (out_proj): NonDynamicallyQuantizableLinear(in_features=768, out_features=768, bias=True)\n",
              "   )\n",
              "   (dropout): Dropout(p=0.0, inplace=False)\n",
              "   (ln_2): LayerNorm((768,), eps=1e-06, elementwise_affine=True)\n",
              "   (mlp): MLPBlock(\n",
              "     (0): Linear(in_features=768, out_features=3072, bias=True)\n",
              "     (1): GELU(approximate=none)\n",
              "     (2): Dropout(p=0.0, inplace=False)\n",
              "     (3): Linear(in_features=3072, out_features=768, bias=True)\n",
              "     (4): Dropout(p=0.0, inplace=False)\n",
              "   )\n",
              " ), EncoderBlock(\n",
              "   (ln_1): LayerNorm((768,), eps=1e-06, elementwise_affine=True)\n",
              "   (self_attention): MultiheadAttention(\n",
              "     (out_proj): NonDynamicallyQuantizableLinear(in_features=768, out_features=768, bias=True)\n",
              "   )\n",
              "   (dropout): Dropout(p=0.0, inplace=False)\n",
              "   (ln_2): LayerNorm((768,), eps=1e-06, elementwise_affine=True)\n",
              "   (mlp): MLPBlock(\n",
              "     (0): Linear(in_features=768, out_features=3072, bias=True)\n",
              "     (1): GELU(approximate=none)\n",
              "     (2): Dropout(p=0.0, inplace=False)\n",
              "     (3): Linear(in_features=3072, out_features=768, bias=True)\n",
              "     (4): Dropout(p=0.0, inplace=False)\n",
              "   )\n",
              " ), EncoderBlock(\n",
              "   (ln_1): LayerNorm((768,), eps=1e-06, elementwise_affine=True)\n",
              "   (self_attention): MultiheadAttention(\n",
              "     (out_proj): NonDynamicallyQuantizableLinear(in_features=768, out_features=768, bias=True)\n",
              "   )\n",
              "   (dropout): Dropout(p=0.0, inplace=False)\n",
              "   (ln_2): LayerNorm((768,), eps=1e-06, elementwise_affine=True)\n",
              "   (mlp): MLPBlock(\n",
              "     (0): Linear(in_features=768, out_features=3072, bias=True)\n",
              "     (1): GELU(approximate=none)\n",
              "     (2): Dropout(p=0.0, inplace=False)\n",
              "     (3): Linear(in_features=3072, out_features=768, bias=True)\n",
              "     (4): Dropout(p=0.0, inplace=False)\n",
              "   )\n",
              " )]"
            ]
          },
          "metadata": {},
          "execution_count": 97
        }
      ]
    },
    {
      "cell_type": "code",
      "source": [
        "layers = [module for module in model.modules() if not isinstance(module, torch.nn.Sequential)]"
      ],
      "metadata": {
        "id": "ZubfEfQf9mOQ"
      },
      "execution_count": null,
      "outputs": []
    },
    {
      "cell_type": "code",
      "source": [
        "len(layers)"
      ],
      "metadata": {
        "colab": {
          "base_uri": "https://localhost:8080/"
        },
        "id": "n24uWZJe-oD4",
        "outputId": "6d42a3e0-1aa0-4c5d-faeb-98eb26cacbf6"
      },
      "execution_count": null,
      "outputs": [
        {
          "output_type": "execute_result",
          "data": {
            "text/plain": [
              "152"
            ]
          },
          "metadata": {},
          "execution_count": 81
        }
      ]
    },
    {
      "cell_type": "code",
      "source": [
        "model"
      ],
      "metadata": {
        "colab": {
          "base_uri": "https://localhost:8080/"
        },
        "id": "xObbCI3R8GBk",
        "outputId": "f7677071-0975-4e80-bacf-53ee01f6ed28"
      },
      "execution_count": null,
      "outputs": [
        {
          "output_type": "execute_result",
          "data": {
            "text/plain": [
              "VisionTransformer(\n",
              "  (conv_proj): Conv2d(3, 768, kernel_size=(16, 16), stride=(16, 16))\n",
              "  (encoder): Encoder(\n",
              "    (dropout): Dropout(p=0.0, inplace=False)\n",
              "    (layers): Sequential(\n",
              "      (encoder_layer_0): EncoderBlock(\n",
              "        (ln_1): LayerNorm((768,), eps=1e-06, elementwise_affine=True)\n",
              "        (self_attention): MultiheadAttention(\n",
              "          (out_proj): NonDynamicallyQuantizableLinear(in_features=768, out_features=768, bias=True)\n",
              "        )\n",
              "        (dropout): Dropout(p=0.0, inplace=False)\n",
              "        (ln_2): LayerNorm((768,), eps=1e-06, elementwise_affine=True)\n",
              "        (mlp): MLPBlock(\n",
              "          (0): Linear(in_features=768, out_features=3072, bias=True)\n",
              "          (1): GELU(approximate=none)\n",
              "          (2): Dropout(p=0.0, inplace=False)\n",
              "          (3): Linear(in_features=3072, out_features=768, bias=True)\n",
              "          (4): Dropout(p=0.0, inplace=False)\n",
              "        )\n",
              "      )\n",
              "      (encoder_layer_1): EncoderBlock(\n",
              "        (ln_1): LayerNorm((768,), eps=1e-06, elementwise_affine=True)\n",
              "        (self_attention): MultiheadAttention(\n",
              "          (out_proj): NonDynamicallyQuantizableLinear(in_features=768, out_features=768, bias=True)\n",
              "        )\n",
              "        (dropout): Dropout(p=0.0, inplace=False)\n",
              "        (ln_2): LayerNorm((768,), eps=1e-06, elementwise_affine=True)\n",
              "        (mlp): MLPBlock(\n",
              "          (0): Linear(in_features=768, out_features=3072, bias=True)\n",
              "          (1): GELU(approximate=none)\n",
              "          (2): Dropout(p=0.0, inplace=False)\n",
              "          (3): Linear(in_features=3072, out_features=768, bias=True)\n",
              "          (4): Dropout(p=0.0, inplace=False)\n",
              "        )\n",
              "      )\n",
              "      (encoder_layer_2): EncoderBlock(\n",
              "        (ln_1): LayerNorm((768,), eps=1e-06, elementwise_affine=True)\n",
              "        (self_attention): MultiheadAttention(\n",
              "          (out_proj): NonDynamicallyQuantizableLinear(in_features=768, out_features=768, bias=True)\n",
              "        )\n",
              "        (dropout): Dropout(p=0.0, inplace=False)\n",
              "        (ln_2): LayerNorm((768,), eps=1e-06, elementwise_affine=True)\n",
              "        (mlp): MLPBlock(\n",
              "          (0): Linear(in_features=768, out_features=3072, bias=True)\n",
              "          (1): GELU(approximate=none)\n",
              "          (2): Dropout(p=0.0, inplace=False)\n",
              "          (3): Linear(in_features=3072, out_features=768, bias=True)\n",
              "          (4): Dropout(p=0.0, inplace=False)\n",
              "        )\n",
              "      )\n",
              "      (encoder_layer_3): EncoderBlock(\n",
              "        (ln_1): LayerNorm((768,), eps=1e-06, elementwise_affine=True)\n",
              "        (self_attention): MultiheadAttention(\n",
              "          (out_proj): NonDynamicallyQuantizableLinear(in_features=768, out_features=768, bias=True)\n",
              "        )\n",
              "        (dropout): Dropout(p=0.0, inplace=False)\n",
              "        (ln_2): LayerNorm((768,), eps=1e-06, elementwise_affine=True)\n",
              "        (mlp): MLPBlock(\n",
              "          (0): Linear(in_features=768, out_features=3072, bias=True)\n",
              "          (1): GELU(approximate=none)\n",
              "          (2): Dropout(p=0.0, inplace=False)\n",
              "          (3): Linear(in_features=3072, out_features=768, bias=True)\n",
              "          (4): Dropout(p=0.0, inplace=False)\n",
              "        )\n",
              "      )\n",
              "      (encoder_layer_4): EncoderBlock(\n",
              "        (ln_1): LayerNorm((768,), eps=1e-06, elementwise_affine=True)\n",
              "        (self_attention): MultiheadAttention(\n",
              "          (out_proj): NonDynamicallyQuantizableLinear(in_features=768, out_features=768, bias=True)\n",
              "        )\n",
              "        (dropout): Dropout(p=0.0, inplace=False)\n",
              "        (ln_2): LayerNorm((768,), eps=1e-06, elementwise_affine=True)\n",
              "        (mlp): MLPBlock(\n",
              "          (0): Linear(in_features=768, out_features=3072, bias=True)\n",
              "          (1): GELU(approximate=none)\n",
              "          (2): Dropout(p=0.0, inplace=False)\n",
              "          (3): Linear(in_features=3072, out_features=768, bias=True)\n",
              "          (4): Dropout(p=0.0, inplace=False)\n",
              "        )\n",
              "      )\n",
              "      (encoder_layer_5): EncoderBlock(\n",
              "        (ln_1): LayerNorm((768,), eps=1e-06, elementwise_affine=True)\n",
              "        (self_attention): MultiheadAttention(\n",
              "          (out_proj): NonDynamicallyQuantizableLinear(in_features=768, out_features=768, bias=True)\n",
              "        )\n",
              "        (dropout): Dropout(p=0.0, inplace=False)\n",
              "        (ln_2): LayerNorm((768,), eps=1e-06, elementwise_affine=True)\n",
              "        (mlp): MLPBlock(\n",
              "          (0): Linear(in_features=768, out_features=3072, bias=True)\n",
              "          (1): GELU(approximate=none)\n",
              "          (2): Dropout(p=0.0, inplace=False)\n",
              "          (3): Linear(in_features=3072, out_features=768, bias=True)\n",
              "          (4): Dropout(p=0.0, inplace=False)\n",
              "        )\n",
              "      )\n",
              "      (encoder_layer_6): EncoderBlock(\n",
              "        (ln_1): LayerNorm((768,), eps=1e-06, elementwise_affine=True)\n",
              "        (self_attention): MultiheadAttention(\n",
              "          (out_proj): NonDynamicallyQuantizableLinear(in_features=768, out_features=768, bias=True)\n",
              "        )\n",
              "        (dropout): Dropout(p=0.0, inplace=False)\n",
              "        (ln_2): LayerNorm((768,), eps=1e-06, elementwise_affine=True)\n",
              "        (mlp): MLPBlock(\n",
              "          (0): Linear(in_features=768, out_features=3072, bias=True)\n",
              "          (1): GELU(approximate=none)\n",
              "          (2): Dropout(p=0.0, inplace=False)\n",
              "          (3): Linear(in_features=3072, out_features=768, bias=True)\n",
              "          (4): Dropout(p=0.0, inplace=False)\n",
              "        )\n",
              "      )\n",
              "      (encoder_layer_7): EncoderBlock(\n",
              "        (ln_1): LayerNorm((768,), eps=1e-06, elementwise_affine=True)\n",
              "        (self_attention): MultiheadAttention(\n",
              "          (out_proj): NonDynamicallyQuantizableLinear(in_features=768, out_features=768, bias=True)\n",
              "        )\n",
              "        (dropout): Dropout(p=0.0, inplace=False)\n",
              "        (ln_2): LayerNorm((768,), eps=1e-06, elementwise_affine=True)\n",
              "        (mlp): MLPBlock(\n",
              "          (0): Linear(in_features=768, out_features=3072, bias=True)\n",
              "          (1): GELU(approximate=none)\n",
              "          (2): Dropout(p=0.0, inplace=False)\n",
              "          (3): Linear(in_features=3072, out_features=768, bias=True)\n",
              "          (4): Dropout(p=0.0, inplace=False)\n",
              "        )\n",
              "      )\n",
              "      (encoder_layer_8): EncoderBlock(\n",
              "        (ln_1): LayerNorm((768,), eps=1e-06, elementwise_affine=True)\n",
              "        (self_attention): MultiheadAttention(\n",
              "          (out_proj): NonDynamicallyQuantizableLinear(in_features=768, out_features=768, bias=True)\n",
              "        )\n",
              "        (dropout): Dropout(p=0.0, inplace=False)\n",
              "        (ln_2): LayerNorm((768,), eps=1e-06, elementwise_affine=True)\n",
              "        (mlp): MLPBlock(\n",
              "          (0): Linear(in_features=768, out_features=3072, bias=True)\n",
              "          (1): GELU(approximate=none)\n",
              "          (2): Dropout(p=0.0, inplace=False)\n",
              "          (3): Linear(in_features=3072, out_features=768, bias=True)\n",
              "          (4): Dropout(p=0.0, inplace=False)\n",
              "        )\n",
              "      )\n",
              "      (encoder_layer_9): EncoderBlock(\n",
              "        (ln_1): LayerNorm((768,), eps=1e-06, elementwise_affine=True)\n",
              "        (self_attention): MultiheadAttention(\n",
              "          (out_proj): NonDynamicallyQuantizableLinear(in_features=768, out_features=768, bias=True)\n",
              "        )\n",
              "        (dropout): Dropout(p=0.0, inplace=False)\n",
              "        (ln_2): LayerNorm((768,), eps=1e-06, elementwise_affine=True)\n",
              "        (mlp): MLPBlock(\n",
              "          (0): Linear(in_features=768, out_features=3072, bias=True)\n",
              "          (1): GELU(approximate=none)\n",
              "          (2): Dropout(p=0.0, inplace=False)\n",
              "          (3): Linear(in_features=3072, out_features=768, bias=True)\n",
              "          (4): Dropout(p=0.0, inplace=False)\n",
              "        )\n",
              "      )\n",
              "      (encoder_layer_10): EncoderBlock(\n",
              "        (ln_1): LayerNorm((768,), eps=1e-06, elementwise_affine=True)\n",
              "        (self_attention): MultiheadAttention(\n",
              "          (out_proj): NonDynamicallyQuantizableLinear(in_features=768, out_features=768, bias=True)\n",
              "        )\n",
              "        (dropout): Dropout(p=0.0, inplace=False)\n",
              "        (ln_2): LayerNorm((768,), eps=1e-06, elementwise_affine=True)\n",
              "        (mlp): MLPBlock(\n",
              "          (0): Linear(in_features=768, out_features=3072, bias=True)\n",
              "          (1): GELU(approximate=none)\n",
              "          (2): Dropout(p=0.0, inplace=False)\n",
              "          (3): Linear(in_features=3072, out_features=768, bias=True)\n",
              "          (4): Dropout(p=0.0, inplace=False)\n",
              "        )\n",
              "      )\n",
              "      (encoder_layer_11): EncoderBlock(\n",
              "        (ln_1): LayerNorm((768,), eps=1e-06, elementwise_affine=True)\n",
              "        (self_attention): MultiheadAttention(\n",
              "          (out_proj): NonDynamicallyQuantizableLinear(in_features=768, out_features=768, bias=True)\n",
              "        )\n",
              "        (dropout): Dropout(p=0.0, inplace=False)\n",
              "        (ln_2): LayerNorm((768,), eps=1e-06, elementwise_affine=True)\n",
              "        (mlp): MLPBlock(\n",
              "          (0): Linear(in_features=768, out_features=3072, bias=True)\n",
              "          (1): GELU(approximate=none)\n",
              "          (2): Dropout(p=0.0, inplace=False)\n",
              "          (3): Linear(in_features=3072, out_features=768, bias=True)\n",
              "          (4): Dropout(p=0.0, inplace=False)\n",
              "        )\n",
              "      )\n",
              "    )\n",
              "    (ln): LayerNorm((768,), eps=1e-06, elementwise_affine=True)\n",
              "  )\n",
              "  (heads): Sequential(\n",
              "    (head): Linear(in_features=768, out_features=1000, bias=True)\n",
              "  )\n",
              ")"
            ]
          },
          "metadata": {},
          "execution_count": 99
        }
      ]
    },
    {
      "cell_type": "code",
      "source": [
        "L"
      ],
      "metadata": {
        "colab": {
          "base_uri": "https://localhost:8080/"
        },
        "id": "Q87lGn4SWUbZ",
        "outputId": "567b63ef-5e58-43af-d3ea-15cab6acd2ec"
      },
      "execution_count": null,
      "outputs": [
        {
          "output_type": "execute_result",
          "data": {
            "text/plain": [
              "152"
            ]
          },
          "metadata": {},
          "execution_count": 98
        }
      ]
    },
    {
      "cell_type": "markdown",
      "metadata": {
        "id": "FBSL2PT8dL39"
      },
      "source": [
        "<h3>2.1 &nbsp; Predicting the class of an image</h3>\n",
        "\n",
        "<p>The input can then be propagated in the network and the activations at each layer are collected:</p>"
      ]
    },
    {
      "cell_type": "code",
      "execution_count": null,
      "metadata": {
        "id": "T00P_x0gdL39"
      },
      "outputs": [],
      "source": [
        "A = [X]+[None]*L\n",
        "for l in range(L): A[l+1] = layers[l].forward(A[l])"
      ]
    },
    {
      "cell_type": "markdown",
      "metadata": {
        "id": "foOI2M4adL3-"
      },
      "source": [
        "<p>Activations in the top layer are the scores the neural network predicts for each class. We show below the 10 classes with highest score:</p>"
      ]
    },
    {
      "cell_type": "code",
      "execution_count": null,
      "metadata": {
        "colab": {
          "base_uri": "https://localhost:8080/"
        },
        "id": "Gj9iso9SdL3-",
        "outputId": "b28257b0-be65-4559-a2c5-7c0ed2c83e86"
      },
      "outputs": [
        {
          "output_type": "stream",
          "name": "stdout",
          "text": [
            "              tusker (101):  7.134\n",
            "African elephant, Lo (386):  6.905\n",
            "Indian elephant, Ele (385):  6.612\n",
            "               zebra (340):  6.542\n",
            "             warthog (343):  6.192\n",
            "Arabian camel, drome (354):  5.185\n",
            "       hyena, hyaena (276):  5.129\n",
            "lion, king of beasts (291):  4.886\n",
            "wild boar, boar, Sus (342):  4.801\n",
            "          hartebeest (351):  4.792\n"
          ]
        }
      ],
      "source": [
        "scores = numpy.array(A[-1].data.view(-1))\n",
        "ind = numpy.argsort(-scores)\n",
        "for i in ind[:10]:\n",
        "    print('%20s (%3d): %6.3f'%(utils.imgclasses[i][:20],i,scores[i]))"
      ]
    },
    {
      "cell_type": "markdown",
      "metadata": {
        "id": "XwNtb-VZdL3-"
      },
      "source": [
        "<p>We observe that the neuron castle (index 483) has the highest score. This is expected due to the presence of a castle in the image. Note that other building-related classes are also assigned a high score, as well as classes corresponding to other objects present in the image (e.g. street sign and traffic light).</p>\n",
        "\n",
        "<h3>2.2 &nbsp; Explaining the prediction with LRP</h3>\n",
        "\n",
        "<p>The following code iterates from the top layer to the first layer in reverse order and applies propagation rules at each layer. Top-layer activations are first multiplied by the mask to retain only the predicted evidence for the class \"castle\".</p>"
      ]
    },
    {
      "cell_type": "code",
      "execution_count": null,
      "metadata": {
        "id": "RU_5vUIGdL3-"
      },
      "outputs": [],
      "source": [
        "T = torch.FloatTensor((1.0*(numpy.arange(1000)==ind[3]).reshape([1,1000,1,1])))\n",
        "\n",
        "R = [None]*L + [(A[-1]*T).data]"
      ]
    },
    {
      "cell_type": "markdown",
      "metadata": {
        "id": "OvfPJKwCdL3-"
      },
      "source": [
        "<p>This evidence can then be propagated backward in the network by applying propagation rules at each layer.</p>\n",
        "\n",
        "<p><b>Convolution layers:</b> Observing that convolutions are special types of linear layers, we can use the same propagation rules as in the MNIST example, and a similar four-step procedure for applying these rules. Steps 2 and 4 are simple element-wise computations. Step 1 can be implemented as a forward computation in the layer, where we have preliminary transformed the layer parameters, and where we apply the increment function afterwards. As shown in the LRP overview paper, Step 3 can instead be computed as a gradient in the space of input activations:</p>\n",
        "\n",
        "<img src=\"http://latex.codecogs.com/svg.latex?c_j = \\big[\\nabla~\\big({\\textstyle \\sum_k}~z_k(\\boldsymbol{a}) \\cdot s_k\\big)\\big]_j\">\n",
        "\n",
        "<p>where <i>s<sub>k</sub></i> is treated as constant.</p>\n",
        "\n",
        "<p><b>Pooling layers:</b> It is suggested in Section 10.3.2 of the paper to treat max-pooling layers as average pooling layers in the backward pass. Observing that average pooling is also a special linear layer, the same propagation rules as for the convolutional layers become applicable.</p>\n",
        "\n",
        "<p>In the following code, we iterate the propagation procedure from the top-layer towards the lower layers. Whenever we meet a max-pooling layer, we convert it into an average pooling layer. The function <code>rho</code> and <code>incr</code> are set differently at each layer, following the strategy of Section 10.3.</p>"
      ]
    },
    {
      "cell_type": "code",
      "execution_count": null,
      "metadata": {
        "id": "u4nsgNy5dL3-"
      },
      "outputs": [],
      "source": [
        "for l in range(1,L)[::-1]:\n",
        "    \n",
        "    A[l] = (A[l].data).requires_grad_(True)\n",
        "\n",
        "    if isinstance(layers[l],torch.nn.MaxPool2d): layers[l] = torch.nn.AvgPool2d(2)\n",
        "\n",
        "    if isinstance(layers[l],torch.nn.Conv2d) or isinstance(layers[l],torch.nn.AvgPool2d):\n",
        "\n",
        "        if l <= 16:       rho = lambda p: p + 0.25*p.clamp(min=0); incr = lambda z: z+1e-9\n",
        "        if 17 <= l <= 30: rho = lambda p: p;                       incr = lambda z: z+1e-9+0.25*((z**2).mean()**.5).data\n",
        "        if l >= 31:       rho = lambda p: p;                       incr = lambda z: z+1e-9\n",
        "\n",
        "        z = incr(utils.newlayer(layers[l],rho).forward(A[l]))  # step 1\n",
        "        s = (R[l+1]/z).data                                    # step 2\n",
        "        (z*s).sum().backward(); c = A[l].grad                  # step 3\n",
        "        R[l] = (A[l]*c).data                                   # step 4\n",
        "        \n",
        "    else:\n",
        "        \n",
        "        R[l] = R[l+1]"
      ]
    },
    {
      "cell_type": "markdown",
      "metadata": {
        "id": "5Ytmn_iXdL3-"
      },
      "source": [
        "As each layer is composed of a collection of two-dimensional feature maps, relevance scores at each layer can be visualized as a two-dimensional map. Here, relevance scores are pooled over all feature maps at a given layer. The two-dimensional maps are shown for a selection of VGG-16 layers."
      ]
    },
    {
      "cell_type": "code",
      "source": [
        "from IPython.display import Image "
      ],
      "metadata": {
        "id": "_HmYDvrW88GT"
      },
      "execution_count": null,
      "outputs": []
    },
    {
      "cell_type": "code",
      "execution_count": null,
      "metadata": {
        "colab": {
          "base_uri": "https://localhost:8080/",
          "height": 1000
        },
        "id": "ReVnqjhPdL3_",
        "outputId": "6efe0835-bf39-44c4-b5a8-ed7d9e17e20a"
      },
      "outputs": [
        {
          "output_type": "display_data",
          "data": {
            "text/plain": [
              "<Figure size 223.2x223.2 with 1 Axes>"
            ],
            "image/png": "[encoded data removed]"
          },
          "metadata": {
            "needs_background": "light"
          }
        },
        {
          "output_type": "display_data",
          "data": {
            "text/plain": [
              "<Figure size 223.2x223.2 with 1 Axes>"
            ],
            "image/png": "[encoded data removed]"
          },
          "metadata": {
            "needs_background": "light"
          }
        },
        {
          "output_type": "display_data",
          "data": {
            "text/plain": [
              "<Figure size 223.2x223.2 with 1 Axes>"
            ],
            "image/png": "[encoded data removed]"
          },
          "metadata": {
            "needs_background": "light"
          }
        },
        {
          "output_type": "display_data",
          "data": {
            "text/plain": [
              "<Figure size 223.2x223.2 with 1 Axes>"
            ],
            "image/png": "[encoded data removed]"
          },
          "metadata": {
            "needs_background": "light"
          }
        },
        {
          "output_type": "execute_result",
          "data": {
            "image/jpeg": "[encoded data removed]",
            "text/plain": [
              "<IPython.core.display.Image object>"
            ]
          },
          "metadata": {},
          "execution_count": 62
        }
      ],
      "source": [
        "for i,l in enumerate([31,21,7,1]):\n",
        "    utils.heatmap(numpy.array(R[l][0]).sum(axis=0),3.1,3.1)\n",
        "\n",
        "Image('elephant and zebra.jpg')"
      ]
    },
    {
      "cell_type": "markdown",
      "metadata": {
        "id": "DXglyMZ3dL3_"
      },
      "source": [
        "<p>We observe that the explanation becomes increasingly resolved spatially. Note that, like for the MNIST example, we have stopped the propagation procedure one layer before the pixels because the rule we have used is not applicable to pixel layers. Like for the MNIST case, we need ot apply the pixel-specific zB-rule for this last layer. This rule can again be implemented in terms of forward passes and gradient computations.</p>"
      ]
    },
    {
      "cell_type": "code",
      "execution_count": null,
      "metadata": {
        "id": "AQhPzWM3dL3_"
      },
      "outputs": [],
      "source": [
        "A[0] = (A[0].data).requires_grad_(True)\n",
        "\n",
        "lb = (A[0].data*0+(0-mean)/std).requires_grad_(True)\n",
        "hb = (A[0].data*0+(1-mean)/std).requires_grad_(True)\n",
        "\n",
        "z = layers[0].forward(A[0]) + 1e-9                                     # step 1 (a)\n",
        "z -= utils.newlayer(layers[0],lambda p: p.clamp(min=0)).forward(lb)    # step 1 (b)\n",
        "z -= utils.newlayer(layers[0],lambda p: p.clamp(max=0)).forward(hb)    # step 1 (c)\n",
        "s = (R[1]/z).data                                                      # step 2\n",
        "(z*s).sum().backward(); c,cp,cm = A[0].grad,lb.grad,hb.grad            # step 3\n",
        "R[0] = (A[0]*c+lb*cp+hb*cm).data                                       # step 4"
      ]
    },
    {
      "cell_type": "markdown",
      "metadata": {
        "id": "avGnSdz-dL3_"
      },
      "source": [
        "The relevance scores obtained in the pixel layer can now be summed over the RGB channels to indicate actual pixel-wise contributions."
      ]
    },
    {
      "cell_type": "code",
      "execution_count": null,
      "metadata": {
        "colab": {
          "base_uri": "https://localhost:8080/",
          "height": 283
        },
        "id": "5Tx1jVDkdL3_",
        "outputId": "339f312b-b550-459a-ed6e-0e4bb75be07c"
      },
      "outputs": [
        {
          "output_type": "display_data",
          "data": {
            "text/plain": [
              "<Figure size 252x252 with 1 Axes>"
            ],
            "image/png": "[encoded data removed]"
          },
          "metadata": {
            "needs_background": "light"
          }
        }
      ],
      "source": [
        "utils.heatmap(numpy.array(R[0][0]).sum(axis=0),3.5,3.5)"
      ]
    },
    {
      "cell_type": "markdown",
      "metadata": {
        "id": "bQCxYwJSdL3_"
      },
      "source": [
        "We observe that the heatmap highlights the outline of the castle as evidence for the corresponding class. Some elements such as the traffic sign or the roof on the left are seen as having a negative effect on the neuron \"castle\" and are consequently highlighted in blue."
      ]
    }
  ],
  "metadata": {
    "kernelspec": {
      "display_name": "Python 3 (ipykernel)",
      "language": "python",
      "name": "python3"
    },
    "language_info": {
      "codemirror_mode": {
        "name": "ipython",
        "version": 3
      },
      "file_extension": ".py",
      "mimetype": "text/x-python",
      "name": "python",
      "nbconvert_exporter": "python",
      "pygments_lexer": "ipython3",
      "version": "3.9.7"
    },
    "varInspector": {
      "cols": {
        "lenName": 16,
        "lenType": 16,
        "lenVar": 40
      },
      "kernels_config": {
        "python": {
          "delete_cmd_postfix": "",
          "delete_cmd_prefix": "del ",
          "library": "var_list.py",
          "varRefreshCmd": "print(var_dic_list())"
        },
        "r": {
          "delete_cmd_postfix": ") ",
          "delete_cmd_prefix": "rm(",
          "library": "var_list.r",
          "varRefreshCmd": "cat(var_dic_list()) "
        }
      },
      "types_to_exclude": [
        "module",
        "function",
        "builtin_function_or_method",
        "instance",
        "_Feature"
      ],
      "window_display": false
    },
    "colab": {
      "provenance": []
    }
  },
  "nbformat": 4,
  "nbformat_minor": 0
}